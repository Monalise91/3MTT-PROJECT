{
  "nbformat": 4,
  "nbformat_minor": 0,
  "metadata": {
    "colab": {
      "provenance": []
    },
    "kernelspec": {
      "name": "python3",
      "display_name": "Python 3"
    },
    "language_info": {
      "name": "python"
    }
  },
  "cells": [
    {
      "cell_type": "code",
      "execution_count": 10,
      "metadata": {
        "id": "35hyZg0zl30D"
      },
      "outputs": [],
      "source": [
        "import pandas as pd\n",
        "import numpy as np"
      ]
    },
    {
      "cell_type": "code",
      "source": [
        "df = pd.read_csv('https://storage.googleapis.com/tf-datasets/titanic/train.csv')"
      ],
      "metadata": {
        "id": "76Ahj4LomRqH"
      },
      "execution_count": 11,
      "outputs": []
    },
    {
      "cell_type": "code",
      "source": [
        "print(df)"
      ],
      "metadata": {
        "colab": {
          "base_uri": "https://localhost:8080/"
        },
        "id": "XGUbDR2QmhjA",
        "outputId": "0a52e142-95cf-44be-9872-d55f16247786"
      },
      "execution_count": 12,
      "outputs": [
        {
          "output_type": "stream",
          "name": "stdout",
          "text": [
            "     survived     sex   age  n_siblings_spouses  parch     fare   class  \\\n",
            "0           0    male  22.0                   1      0   7.2500   Third   \n",
            "1           1  female  38.0                   1      0  71.2833   First   \n",
            "2           1  female  26.0                   0      0   7.9250   Third   \n",
            "3           1  female  35.0                   1      0  53.1000   First   \n",
            "4           0    male  28.0                   0      0   8.4583   Third   \n",
            "..        ...     ...   ...                 ...    ...      ...     ...   \n",
            "622         0    male  28.0                   0      0  10.5000  Second   \n",
            "623         0    male  25.0                   0      0   7.0500   Third   \n",
            "624         1  female  19.0                   0      0  30.0000   First   \n",
            "625         0  female  28.0                   1      2  23.4500   Third   \n",
            "626         0    male  32.0                   0      0   7.7500   Third   \n",
            "\n",
            "        deck  embark_town alone  \n",
            "0    unknown  Southampton     n  \n",
            "1          C    Cherbourg     n  \n",
            "2    unknown  Southampton     y  \n",
            "3          C  Southampton     n  \n",
            "4    unknown   Queenstown     y  \n",
            "..       ...          ...   ...  \n",
            "622  unknown  Southampton     y  \n",
            "623  unknown  Southampton     y  \n",
            "624        B  Southampton     y  \n",
            "625  unknown  Southampton     n  \n",
            "626  unknown   Queenstown     y  \n",
            "\n",
            "[627 rows x 10 columns]\n"
          ]
        }
      ]
    },
    {
      "cell_type": "code",
      "source": [
        "print(df.shape)"
      ],
      "metadata": {
        "id": "_WVw-EEFmvaR",
        "outputId": "17c6c1d3-1441-40b7-f3fa-076777a116c7",
        "colab": {
          "base_uri": "https://localhost:8080/"
        }
      },
      "execution_count": 13,
      "outputs": [
        {
          "output_type": "stream",
          "name": "stdout",
          "text": [
            "(627, 10)\n"
          ]
        }
      ]
    },
    {
      "cell_type": "code",
      "source": [
        "df = df.select_dtypes(include=np.number)\n",
        "print(df)\n"
      ],
      "metadata": {
        "id": "rPfK26bPnLKQ",
        "outputId": "738a389c-d26e-4b36-c94e-8c73f5541e96",
        "colab": {
          "base_uri": "https://localhost:8080/"
        }
      },
      "execution_count": 14,
      "outputs": [
        {
          "output_type": "stream",
          "name": "stdout",
          "text": [
            "     survived   age  n_siblings_spouses  parch     fare\n",
            "0           0  22.0                   1      0   7.2500\n",
            "1           1  38.0                   1      0  71.2833\n",
            "2           1  26.0                   0      0   7.9250\n",
            "3           1  35.0                   1      0  53.1000\n",
            "4           0  28.0                   0      0   8.4583\n",
            "..        ...   ...                 ...    ...      ...\n",
            "622         0  28.0                   0      0  10.5000\n",
            "623         0  25.0                   0      0   7.0500\n",
            "624         1  19.0                   0      0  30.0000\n",
            "625         0  28.0                   1      2  23.4500\n",
            "626         0  32.0                   0      0   7.7500\n",
            "\n",
            "[627 rows x 5 columns]\n"
          ]
        }
      ]
    },
    {
      "cell_type": "code",
      "source": [
        "print(df.mean())"
      ],
      "metadata": {
        "id": "kVgQ_Yu2ng-z",
        "outputId": "5520f26f-b95c-49e8-ba7e-59756d83d7fc",
        "colab": {
          "base_uri": "https://localhost:8080/"
        }
      },
      "execution_count": 15,
      "outputs": [
        {
          "output_type": "stream",
          "name": "stdout",
          "text": [
            "survived               0.387560\n",
            "age                   29.631308\n",
            "n_siblings_spouses     0.545455\n",
            "parch                  0.379585\n",
            "fare                  34.385399\n",
            "dtype: float64\n"
          ]
        }
      ]
    },
    {
      "cell_type": "code",
      "source": [
        "from sklearn.linear_model import LogisticRegression\n",
        "from sklearn.model_selection import train_test_split\n",
        "model = LogisticRegression()"
      ],
      "metadata": {
        "id": "mXKq1kn0nxrp"
      },
      "execution_count": 16,
      "outputs": []
    },
    {
      "cell_type": "code",
      "source": [
        "covariance_matrix = df.cov()\n",
        "print(covariance_matrix)"
      ],
      "metadata": {
        "id": "8SvLWMzirvds",
        "outputId": "28a6685b-6ca5-4c36-9551-3ad73ab7cdd3",
        "colab": {
          "base_uri": "https://localhost:8080/"
        }
      },
      "execution_count": 17,
      "outputs": [
        {
          "output_type": "stream",
          "name": "stdout",
          "text": [
            "                    survived         age  n_siblings_spouses     parch  \\\n",
            "survived            0.237736   -0.202201           -0.028028  0.033164   \n",
            "age                -0.202201  156.545580           -3.086114 -1.656695   \n",
            "n_siblings_spouses -0.028028   -3.086114            1.325007  0.393262   \n",
            "parch               0.033164   -1.656695            0.393262  0.628848   \n",
            "fare                6.721196   81.487116            8.659981  8.841228   \n",
            "\n",
            "                           fare  \n",
            "survived               6.721196  \n",
            "age                   81.487116  \n",
            "n_siblings_spouses     8.659981  \n",
            "parch                  8.841228  \n",
            "fare                2980.912176  \n"
          ]
        }
      ]
    },
    {
      "cell_type": "code",
      "source": [
        "correlation_matrix = df.corr()\n",
        "print(correlation_matrix)\n"
      ],
      "metadata": {
        "id": "GMlvd6vUsJ8a",
        "outputId": "ff0b2ea2-599e-49d8-b5ab-f39ec7d8f02b",
        "colab": {
          "base_uri": "https://localhost:8080/"
        }
      },
      "execution_count": 18,
      "outputs": [
        {
          "output_type": "stream",
          "name": "stdout",
          "text": [
            "                    survived       age  n_siblings_spouses     parch      fare\n",
            "survived            1.000000 -0.033145           -0.049938  0.085773  0.252478\n",
            "age                -0.033145  1.000000           -0.214280 -0.166974  0.119287\n",
            "n_siblings_spouses -0.049938 -0.214280            1.000000  0.430824  0.137795\n",
            "parch               0.085773 -0.166974            0.430824  1.000000  0.204204\n",
            "fare                0.252478  0.119287            0.137795  0.204204  1.000000\n"
          ]
        }
      ]
    },
    {
      "cell_type": "markdown",
      "source": [
        "To source for a real world dataset for this project, I went to google and copy the url of the particular dataset I wanted.\n",
        "I cleaned the dataset using pandas ascertaining the shape of the dataset. I preprocess it by removing some columns.\n",
        "i analyzed the dataset using some statistical measures such as varaince and correlation."
      ],
      "metadata": {
        "id": "FrqBi1_XTlyU"
      }
    }
  ]
}